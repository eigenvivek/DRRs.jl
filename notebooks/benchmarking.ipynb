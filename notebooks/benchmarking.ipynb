{
 "cells": [
  {
   "cell_type": "markdown",
   "id": "35932c9f",
   "metadata": {},
   "source": [
    "# Benchmarking Experiments\n",
    "\n",
    "Testing different parallelization schemes."
   ]
  },
  {
   "cell_type": "code",
   "execution_count": 1,
   "id": "7e2de9b1",
   "metadata": {},
   "outputs": [
    {
     "data": {
      "application/vnd.webio.node+json": {
       "children": [],
       "instanceArgs": {
        "namespace": "html",
        "tag": "div"
       },
       "nodeType": "DOM",
       "props": {},
       "type": "node"
      },
      "text/html": [
       "<div style=\"padding: 1em; background-color: #f8d6da; border: 1px solid #f5c6cb; font-weight: bold;\">\n",
       "<p>The WebIO Jupyter extension was not detected. See the\n",
       "<a href=\"https://juliagizmos.github.io/WebIO.jl/latest/providers/ijulia/\" target=\"_blank\">\n",
       "    WebIO Jupyter integration documentation\n",
       "</a>\n",
       "for more information.\n",
       "</div>\n"
      ],
      "text/plain": [
       "WebIO._IJuliaInit()"
      ]
     },
     "metadata": {
      "application/vnd.webio.node+json": {
       "kernelId": "44dfcc47-9b20-47aa-b90e-93925f5a7bb6"
      }
     },
     "output_type": "display_data"
    }
   ],
   "source": [
    "using BenchmarkTools\n",
    "\n",
    "using DRRs"
   ]
  },
  {
   "cell_type": "code",
   "execution_count": 2,
   "id": "2c30b1b5",
   "metadata": {},
   "outputs": [],
   "source": [
    "# Load the volume and get coordinate spacing as a CT object\n",
    "ct = read_dicom(\"../data/cxr\")\n",
    "\n",
    "# Create the camera and detector plane\n",
    "# We assume the volume is centered at (0,0,0)\n",
    "# Top corner is (360,360,330)\n",
    "center = [-10, -10, -10]\n",
    "camera = Camera(center)\n",
    "\n",
    "center = [400, 400, 400]\n",
    "height, width = 301, 301\n",
    "Δx, Δy = 1, 1\n",
    "detector = Detector(center, height, width, Δx, Δy);"
   ]
  },
  {
   "cell_type": "code",
   "execution_count": 3,
   "id": "dd5f6f07",
   "metadata": {},
   "outputs": [
    {
     "name": "stdout",
     "output_type": "stream",
     "text": [
      "  2.632 ms (453021 allocations: 17.97 MiB)\n"
     ]
    }
   ],
   "source": [
    "# Make the rays in the projector\n",
    "projector = @btime make_xrays(camera, detector);"
   ]
  },
  {
   "cell_type": "markdown",
   "id": "ed5dfbd1",
   "metadata": {},
   "source": [
    "## Benchmark a single ray"
   ]
  },
  {
   "cell_type": "code",
   "execution_count": 4,
   "id": "b888018a",
   "metadata": {},
   "outputs": [
    {
     "name": "stdout",
     "output_type": "stream",
     "text": [
      "  49.375 μs (2829 allocations: 64.62 KiB)\n"
     ]
    }
   ],
   "source": [
    "# Time a single ray trace\n",
    "@btime siddon(projector[1], ct);"
   ]
  },
  {
   "cell_type": "markdown",
   "id": "b1ca475e",
   "metadata": {},
   "source": [
    "## Benchmark basic `for` loops"
   ]
  },
  {
   "cell_type": "code",
   "execution_count": 5,
   "id": "c990c383",
   "metadata": {},
   "outputs": [
    {
     "name": "stdout",
     "output_type": "stream",
     "text": [
      "  6.966 s (306933421 allocations: 6.55 GiB)\n"
     ]
    }
   ],
   "source": [
    "# Time iterating over all rays\n",
    "@btime [siddon(ray, ct) for ray in projector];"
   ]
  },
  {
   "cell_type": "code",
   "execution_count": 6,
   "id": "73f1cd76",
   "metadata": {},
   "outputs": [
    {
     "name": "stdout",
     "output_type": "stream",
     "text": [
      "  7.030 s (306933447 allocations: 6.55 GiB)\n"
     ]
    }
   ],
   "source": [
    "# Time broadcasting\n",
    "import DRRs.siddon\n",
    "\n",
    "siddon(ray; ct) = siddon(ray, ct)\n",
    "\n",
    "@btime siddon.(projector; ct);"
   ]
  },
  {
   "cell_type": "code",
   "execution_count": 7,
   "id": "746c5796",
   "metadata": {},
   "outputs": [
    {
     "name": "stdout",
     "output_type": "stream",
     "text": [
      "  7.021 s (307114108 allocations: 6.56 GiB)\n"
     ]
    }
   ],
   "source": [
    "# Time a regular old for loop\n",
    "@btime for ray in projector\n",
    "    siddon(ray, ct)\n",
    "end"
   ]
  },
  {
   "cell_type": "markdown",
   "id": "f2ab6d44",
   "metadata": {},
   "source": [
    "## Benchmark parallelization\n",
    "\n",
    "Try the following: \n",
    "1. `Base.Threads`: set `export JULIA_NUM_THREADS=8` before launching Jupyter notebook\n",
    "2. `ThreadsX` (uses the same number of threads as `Base.Threads`)\n",
    "3. `Distributed` **(doesn't seem to be working?)**"
   ]
  },
  {
   "cell_type": "code",
   "execution_count": 8,
   "id": "98f14071",
   "metadata": {},
   "outputs": [
    {
     "name": "stdout",
     "output_type": "stream",
     "text": [
      "nthreads() = 8\n",
      "  1.758 s (306933458 allocations: 6.55 GiB)\n"
     ]
    }
   ],
   "source": [
    "using Base.Threads\n",
    "\n",
    "@show nthreads()\n",
    "\n",
    "@btime @threads for ray in projector\n",
    "    siddon(ray, ct)\n",
    "end"
   ]
  },
  {
   "cell_type": "code",
   "execution_count": 9,
   "id": "81514962",
   "metadata": {},
   "outputs": [
    {
     "name": "stdout",
     "output_type": "stream",
     "text": [
      "  1.760 s (307207216 allocations: 6.56 GiB)\n"
     ]
    },
    {
     "name": "stderr",
     "output_type": "stream",
     "text": [
      "┌ Info: Precompiling ThreadsX [ac1d9e8a-700a-412c-b207-f0111f4b6c0d]\n",
      "└ @ Base loading.jl:1423\n"
     ]
    }
   ],
   "source": [
    "using ThreadsX\n",
    "\n",
    "@btime ThreadsX.collect(siddon(ray, ct) for ray in projector);"
   ]
  },
  {
   "cell_type": "code",
   "execution_count": null,
   "id": "c780b92c",
   "metadata": {},
   "outputs": [],
   "source": [
    "# Doesn't seem to work?\n",
    "using Distributed\n",
    "\n",
    "@btime @distributed for ray in projector\n",
    "    siddon(ray, ct)\n",
    "end"
   ]
  },
  {
   "cell_type": "code",
   "execution_count": null,
   "id": "a5939dc8",
   "metadata": {},
   "outputs": [],
   "source": []
  }
 ],
 "metadata": {
  "@webio": {
   "lastCommId": "04d103db495e4c529f72ee393a15b11c",
   "lastKernelId": "44dfcc47-9b20-47aa-b90e-93925f5a7bb6"
  },
  "kernelspec": {
   "display_name": "Julia 1.7.1",
   "language": "julia",
   "name": "julia-1.7"
  },
  "language_info": {
   "file_extension": ".jl",
   "mimetype": "application/julia",
   "name": "julia",
   "version": "1.7.1"
  }
 },
 "nbformat": 4,
 "nbformat_minor": 5
}
