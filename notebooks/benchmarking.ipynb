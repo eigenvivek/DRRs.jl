{
 "cells": [
  {
   "cell_type": "code",
   "execution_count": 1,
   "id": "e4430887",
   "metadata": {},
   "outputs": [
    {
     "data": {
      "application/vnd.webio.node+json": {
       "children": [],
       "instanceArgs": {
        "namespace": "html",
        "tag": "div"
       },
       "nodeType": "DOM",
       "props": {},
       "type": "node"
      },
      "text/html": [
       "<div style=\"padding: 1em; background-color: #f8d6da; border: 1px solid #f5c6cb; font-weight: bold;\">\n",
       "<p>The WebIO Jupyter extension was not detected. See the\n",
       "<a href=\"https://juliagizmos.github.io/WebIO.jl/latest/providers/ijulia/\" target=\"_blank\">\n",
       "    WebIO Jupyter integration documentation\n",
       "</a>\n",
       "for more information.\n",
       "</div>\n"
      ],
      "text/plain": [
       "WebIO._IJuliaInit()"
      ]
     },
     "metadata": {
      "application/vnd.webio.node+json": {
       "kernelId": "1acd8823-5da9-47e2-881f-1176d120b016"
      }
     },
     "output_type": "display_data"
    }
   ],
   "source": [
    "using BenchmarkTools\n",
    "\n",
    "using DRRs"
   ]
  },
  {
   "cell_type": "code",
   "execution_count": 2,
   "id": "ca165c12",
   "metadata": {},
   "outputs": [],
   "source": [
    "# Load the volume and get coordinate spacing as a CT object\n",
    "ct = read_dicom(\"../data/cxr\");"
   ]
  },
  {
   "cell_type": "code",
   "execution_count": 3,
   "id": "75bf7124",
   "metadata": {},
   "outputs": [
    {
     "data": {
      "text/plain": [
       "Detector([400.0, 400.0, 400.0], 301, 301, 1.0, 1.0)"
      ]
     },
     "execution_count": 3,
     "metadata": {},
     "output_type": "execute_result"
    }
   ],
   "source": [
    "# Create the camera and detector plane\n",
    "# We assume the volume is centered at (0,0,0)\n",
    "# Top corner is (360,360,330)\n",
    "center = [-10, -10, -10]\n",
    "camera = Camera(center)\n",
    "\n",
    "center = [400, 400, 400]\n",
    "height, width = 301, 301\n",
    "Δx, Δy = 1, 1\n",
    "detector = Detector(center, height, width, Δx, Δy)"
   ]
  },
  {
   "cell_type": "code",
   "execution_count": 4,
   "id": "3f4b39f5",
   "metadata": {},
   "outputs": [
    {
     "name": "stdout",
     "output_type": "stream",
     "text": [
      "  3.277 s (11839827 allocations: 8.56 GiB)\n"
     ]
    }
   ],
   "source": [
    "@btime DRR(ct, detector, camera; ray2pix=:sample, spacing=0.1);"
   ]
  },
  {
   "cell_type": "code",
   "execution_count": 5,
   "id": "43a1be91",
   "metadata": {},
   "outputs": [
    {
     "name": "stdout",
     "output_type": "stream",
     "text": [
      "  7.110 s (307386441 allocations: 6.57 GiB)\n"
     ]
    }
   ],
   "source": [
    "@btime DRR(ct, detector, camera; ray2pix=:siddon);"
   ]
  },
  {
   "cell_type": "code",
   "execution_count": null,
   "id": "040200f6",
   "metadata": {},
   "outputs": [],
   "source": []
  }
 ],
 "metadata": {
  "@webio": {
   "lastCommId": "339e0e053a2741959e40411cff5d9582",
   "lastKernelId": "1acd8823-5da9-47e2-881f-1176d120b016"
  },
  "kernelspec": {
   "display_name": "Julia 1.7.1",
   "language": "julia",
   "name": "julia-1.7"
  },
  "language_info": {
   "file_extension": ".jl",
   "mimetype": "application/julia",
   "name": "julia",
   "version": "1.7.1"
  }
 },
 "nbformat": 4,
 "nbformat_minor": 5
}
