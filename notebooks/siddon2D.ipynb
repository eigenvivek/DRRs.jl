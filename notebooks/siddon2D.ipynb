{
 "cells": [
  {
   "cell_type": "markdown",
   "id": "50cfbf21",
   "metadata": {},
   "source": [
    "## Initialization"
   ]
  },
  {
   "cell_type": "code",
   "execution_count": 1,
   "id": "818bf6b3",
   "metadata": {},
   "outputs": [],
   "source": [
    "struct Siddon\n",
    "    origin::Vector{Float64}\n",
    "    target::Vector{Float64}\n",
    "    spacing::Vector{Float64}\n",
    "    isocenter::Vector{Float64}\n",
    "    dims::Vector{Int64}\n",
    "end"
   ]
  },
  {
   "cell_type": "code",
   "execution_count": 2,
   "id": "77b50111",
   "metadata": {},
   "outputs": [
    {
     "data": {
      "text/plain": [
       "get_α_minmax (generic function with 1 method)"
      ]
     },
     "execution_count": 2,
     "metadata": {},
     "output_type": "execute_result"
    }
   ],
   "source": [
    "function get_α(i::Int64, j::Int64; sid::Siddon)\n",
    "    planes = [i, j]\n",
    "    return @. (sid.isocenter + planes * sid.spacing - sid.origin) / (sid.target - sid.origin)\n",
    "end\n",
    "\n",
    "\n",
    "function get_α_minmax(sid::Siddon)    \n",
    "    αx0, αy0 = get_α(0, 0; sid)\n",
    "    αx1, αy1 = sid.dims .- 1 |> nxy -> get_α(nxy...; sid)\n",
    "    αxmin, αxmax = minmax(αx0, αx1)\n",
    "    αymin, αymax = minmax(αy0, αy1)\n",
    "    αmin = max(αxmin, αymin)\n",
    "    αmax = min(αxmax, αymax)\n",
    "    return αxmin, αxmax, αymin, αymax, αmin, αmax\n",
    "end"
   ]
  },
  {
   "cell_type": "code",
   "execution_count": 3,
   "id": "1fc40dc9",
   "metadata": {},
   "outputs": [
    {
     "data": {
      "text/plain": [
       "get_φ (generic function with 1 method)"
      ]
     },
     "execution_count": 3,
     "metadata": {},
     "output_type": "execute_result"
    }
   ],
   "source": [
    "function get_φ(α::Float64; sid::Siddon)\n",
    "    pxyz = @. sid.origin + α * (target - origin)\n",
    "    return @. (pxyz - sid.isocenter) / sid.spacing\n",
    "end"
   ]
  },
  {
   "cell_type": "code",
   "execution_count": 4,
   "id": "4221c51e",
   "metadata": {},
   "outputs": [
    {
     "data": {
      "text/plain": [
       "initialize (generic function with 1 method)"
      ]
     },
     "execution_count": 4,
     "metadata": {},
     "output_type": "execute_result"
    }
   ],
   "source": [
    "function get_idx_minmax(αmin, αmax, αxmin, αxmax, ixmin, ixmax, p1, p2)\n",
    "    if p1 ≤ p2\n",
    "        imin = αmin == αxmin ? 1 : Int(ceil(ixmin))\n",
    "        imax = αmax == αxmax ? nx-1 : Int(floor(ixmax))\n",
    "    else\n",
    "        imin = αmax == αxmax ? 1 : Int(ceil(ixmax))\n",
    "        imax = αmin == αxmin ? nx-2 : Int(floor(ixmin))\n",
    "    end\n",
    "    return imin, imax\n",
    "end\n",
    "\n",
    "\n",
    "function initialize(sid::Siddon)\n",
    "    αxmin, αxmax, αymin, αymax, αmin, αmax = get_α_minmax(sid)\n",
    "    ixmin, jxmin = get_φ(αmin; sid)\n",
    "    ixmax, jxmax = get_φ(αmax; sid)\n",
    "    imin, imax = get_idx_minmax(αmin, αmax, αxmin, αxmax, ixmin, ixmax, sid.origin[1], sid.target[1])\n",
    "    jmin, jmax = get_idx_minmax(αmin, αmax, αymin, αymax, jxmin, jxmax, sid.origin[2], sid.target[2])\n",
    "    return αmin, αmax, imin, imax, jmin, jmax\n",
    "end"
   ]
  },
  {
   "cell_type": "code",
   "execution_count": 5,
   "id": "060ca4a4",
   "metadata": {},
   "outputs": [
    {
     "data": {
      "text/plain": [
       "Siddon([-0.5, 0.5], [4.5, 4.5], [1.0, 1.0], [0.0, 0.0], [5, 5])"
      ]
     },
     "execution_count": 5,
     "metadata": {},
     "output_type": "execute_result"
    }
   ],
   "source": [
    "# Little test implementation\n",
    "ΔX, ΔY = 1, 1\n",
    "X₀, Y₀ = 0, 0\n",
    "\n",
    "nx = 5  # Number of planes (x)\n",
    "ny = 5  # Number of planes (y)\n",
    "\n",
    "origin = [-0.5, 0.5]\n",
    "target = [4.5, 4.5]\n",
    "spacing = [ΔX, ΔY]\n",
    "isocenter = [X₀, Y₀]\n",
    "dims = [nx, ny]\n",
    "\n",
    "sid = Siddon(origin, target, spacing, isocenter, dims)"
   ]
  },
  {
   "cell_type": "code",
   "execution_count": 6,
   "id": "a3cbf00e",
   "metadata": {},
   "outputs": [
    {
     "data": {
      "text/plain": [
       "(0.1, 0.875, 1, 3, 1, 4)"
      ]
     },
     "execution_count": 6,
     "metadata": {},
     "output_type": "execute_result"
    }
   ],
   "source": [
    "# Test the initialization function\n",
    "αmin, αmax, imin, _, jmin, _ = initialize(sid)"
   ]
  },
  {
   "cell_type": "markdown",
   "id": "d54f62fd",
   "metadata": {},
   "source": [
    "## Loop"
   ]
  },
  {
   "cell_type": "code",
   "execution_count": 7,
   "id": "5dfb72ce",
   "metadata": {},
   "outputs": [
    {
     "data": {
      "text/plain": [
       "CartesianIndex(0, 0)"
      ]
     },
     "execution_count": 7,
     "metadata": {},
     "output_type": "execute_result"
    }
   ],
   "source": [
    "CartesianIndex(trunc.(Int, get_φ(0.1; sid))...)"
   ]
  },
  {
   "cell_type": "code",
   "execution_count": 8,
   "id": "0443e66b",
   "metadata": {},
   "outputs": [
    {
     "data": {
      "text/plain": [
       "get_vox_idx (generic function with 1 method)"
      ]
     },
     "execution_count": 8,
     "metadata": {},
     "output_type": "execute_result"
    }
   ],
   "source": [
    "get_vox_idx(α::Float64) = trunc.(Int, get_φ(α; sid)) .+ 1"
   ]
  },
  {
   "cell_type": "code",
   "execution_count": 9,
   "id": "1fd40152",
   "metadata": {},
   "outputs": [
    {
     "data": {
      "text/plain": [
       "2-element Vector{Int64}:\n",
       " 1\n",
       " 1"
      ]
     },
     "execution_count": 9,
     "metadata": {},
     "output_type": "execute_result"
    }
   ],
   "source": [
    "iu = sid.origin[1] ≤ sid.target[1] ? 1 : -1\n",
    "ju = sid.origin[2] ≤ sid.target[2] ? 1 : -1\n",
    "\n",
    "update_i = [iu, ju]\n",
    "update_α = @. sid.spacing / abs(sid.target-sid.origin)\n",
    "\n",
    "αcurr = αmin\n",
    "\n",
    "αs = get_α(imin, jmin; sid)\n",
    "αnext, idx = findmin(αs)\n",
    "\n",
    "αmid = (αnext + αcurr) / 2\n",
    "voxs = get_vox_idx(αmid)"
   ]
  },
  {
   "cell_type": "code",
   "execution_count": 10,
   "id": "cd33a597",
   "metadata": {},
   "outputs": [
    {
     "name": "stdout",
     "output_type": "stream",
     "text": [
      "(αnext, len, voxs) = (0.125, 0.024999999999999994, [1, 1])\n",
      "(αnext, len, voxs) = (0.3, 0.19999999999999998, [1, 2])\n",
      "(αnext, len, voxs) = (0.375, 0.07500000000000001, [2, 2])\n",
      "(αnext, len, voxs) = (0.5, 0.125, [2, 3])\n",
      "(αnext, len, voxs) = (0.625, 0.125, [3, 3])\n",
      "(αnext, len, voxs) = (0.7, 0.07499999999999996, [3, 4])\n",
      "(αnext, len, voxs) = (0.875, 0.17500000000000004, [4, 4])\n"
     ]
    }
   ],
   "source": [
    "len = αnext - αcurr\n",
    "@show αnext, len, voxs\n",
    "\n",
    "while αcurr < αmax\n",
    "    voxs[idx] += update_i[idx]\n",
    "    αs[idx] += update_α[idx]\n",
    "    \n",
    "    αnext, idx = findmin(αs)\n",
    "    \n",
    "    len = αnext - αcurr\n",
    "    @show αnext, len, voxs\n",
    "    \n",
    "    αcurr = αnext\n",
    "end"
   ]
  },
  {
   "cell_type": "code",
   "execution_count": null,
   "id": "97b7b572",
   "metadata": {},
   "outputs": [],
   "source": []
  }
 ],
 "metadata": {
  "@webio": {
   "lastCommId": null,
   "lastKernelId": null
  },
  "kernelspec": {
   "display_name": "Julia 1.7.1",
   "language": "julia",
   "name": "julia-1.7"
  },
  "language_info": {
   "file_extension": ".jl",
   "mimetype": "application/julia",
   "name": "julia",
   "version": "1.7.1"
  }
 },
 "nbformat": 4,
 "nbformat_minor": 5
}
