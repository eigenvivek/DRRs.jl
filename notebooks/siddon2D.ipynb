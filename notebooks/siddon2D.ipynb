{
 "cells": [
  {
   "cell_type": "markdown",
   "id": "50cfbf21",
   "metadata": {},
   "source": [
    "## Initialization"
   ]
  },
  {
   "cell_type": "code",
   "execution_count": 1,
   "id": "818bf6b3",
   "metadata": {},
   "outputs": [],
   "source": [
    "struct Siddon{ArrFloat, ArrInt}\n",
    "    origin::ArrFloat\n",
    "    target::ArrFloat\n",
    "    spacing::ArrFloat\n",
    "    isocenter::ArrFloat\n",
    "    dims::ArrInt\n",
    "end"
   ]
  },
  {
   "cell_type": "code",
   "execution_count": 2,
   "id": "77b50111",
   "metadata": {},
   "outputs": [
    {
     "data": {
      "text/plain": [
       "get_α_minmax (generic function with 1 method)"
      ]
     },
     "execution_count": 2,
     "metadata": {},
     "output_type": "execute_result"
    }
   ],
   "source": [
    "function get_α(i::Int64, j::Int64; sid::Siddon)\n",
    "    planes = [i, j]\n",
    "    return @. (sid.isocenter + planes * sid.spacing - sid.origin) / (sid.target - sid.origin)\n",
    "end\n",
    "\n",
    "\n",
    "function get_α_minmax(sid::Siddon)    \n",
    "    αx0, αy0 = get_α(0, 0; sid)\n",
    "    αx1, αy1 = sid.dims .- 1 |> nxy -> get_α(nxy...; sid)\n",
    "    αxmin, αxmax = minmax(αx0, αx1)\n",
    "    αymin, αymax = minmax(αy0, αy1)\n",
    "    αmin = max(αxmin, αymin)\n",
    "    αmax = min(αxmax, αymax)\n",
    "    return αxmin, αxmax, αymin, αymax, αmin, αmax\n",
    "end"
   ]
  },
  {
   "cell_type": "code",
   "execution_count": 3,
   "id": "1fc40dc9",
   "metadata": {},
   "outputs": [
    {
     "data": {
      "text/plain": [
       "get_φ (generic function with 1 method)"
      ]
     },
     "execution_count": 3,
     "metadata": {},
     "output_type": "execute_result"
    }
   ],
   "source": [
    "function get_φ(α::Float64; sid::Siddon)\n",
    "    pxyz = @. sid.origin + α * (sid.target - sid.origin)\n",
    "    return @. (pxyz - sid.isocenter) / sid.spacing\n",
    "end"
   ]
  },
  {
   "cell_type": "code",
   "execution_count": 4,
   "id": "4221c51e",
   "metadata": {},
   "outputs": [
    {
     "data": {
      "text/plain": [
       "initialize (generic function with 1 method)"
      ]
     },
     "execution_count": 4,
     "metadata": {},
     "output_type": "execute_result"
    }
   ],
   "source": [
    "function get_idx_minmax(\n",
    "    αmin::Float64, αmax::Float64, αxmin::Float64, αxmax::Float64,\n",
    "    ixmin::Float64, ixmax::Float64, p1::Float64, p2::Float64, nx::Int64\n",
    ")\n",
    "    if p1 ≤ p2\n",
    "        imin = αmin == αxmin ? 1 : trunc(Int, ixmin + 1)\n",
    "        imax = αmax == αxmax ? nx - 1 : trunc(Int, ixmax)\n",
    "    else\n",
    "        imin = αmax == αxmax ? 1 : trunc(Int, ixmax + 1)\n",
    "        imax = αmin == αxmin ? nx - 2 : trunc(Int, ixmin)\n",
    "    end\n",
    "    return imin, imax\n",
    "end\n",
    "\n",
    "\n",
    "\n",
    "function initialize(sid::Siddon)\n",
    "    αxmin, αxmax, αymin, αymax, αmin, αmax = get_α_minmax(sid)\n",
    "    ixmin, jxmin = get_φ(αmin; sid)\n",
    "    ixmax, jxmax = get_φ(αmax; sid)\n",
    "    imin, imax = get_idx_minmax(αmin, αmax, αxmin, αxmax, ixmin, ixmax, sid.origin[1], sid.target[1], sid.dims[1])\n",
    "    jmin, jmax = get_idx_minmax(αmin, αmax, αymin, αymax, jxmin, jxmax, sid.origin[2], sid.target[2], sid.dims[1])\n",
    "    return αmin, αmax, imin, imax, jmin, jmax\n",
    "end"
   ]
  },
  {
   "cell_type": "code",
   "execution_count": 5,
   "id": "060ca4a4",
   "metadata": {},
   "outputs": [
    {
     "ename": "LoadError",
     "evalue": "MethodError: no method matching Siddon(::Vector{Float64}, ::Vector{Float64}, ::Vector{Int64}, ::Vector{Int64}, ::Vector{Int64})\n\u001b[0mClosest candidates are:\n\u001b[0m  Siddon(::ArrFloat, ::ArrFloat, \u001b[91m::ArrFloat\u001b[39m, \u001b[91m::ArrFloat\u001b[39m, ::ArrInt) where {ArrFloat, ArrInt} at In[1]:2",
     "output_type": "error",
     "traceback": [
      "MethodError: no method matching Siddon(::Vector{Float64}, ::Vector{Float64}, ::Vector{Int64}, ::Vector{Int64}, ::Vector{Int64})\n\u001b[0mClosest candidates are:\n\u001b[0m  Siddon(::ArrFloat, ::ArrFloat, \u001b[91m::ArrFloat\u001b[39m, \u001b[91m::ArrFloat\u001b[39m, ::ArrInt) where {ArrFloat, ArrInt} at In[1]:2",
      "",
      "Stacktrace:",
      " [1] top-level scope",
      "   @ In[5]:14",
      " [2] eval",
      "   @ ./boot.jl:373 [inlined]",
      " [3] include_string(mapexpr::typeof(REPL.softscope), mod::Module, code::String, filename::String)",
      "   @ Base ./loading.jl:1196"
     ]
    }
   ],
   "source": [
    "# Little test implementation\n",
    "ΔX, ΔY = 1, 1\n",
    "X₀, Y₀ = 0, 0\n",
    "\n",
    "nx = 5  # Number of planes (x)\n",
    "ny = 5  # Number of planes (y)\n",
    "\n",
    "origin = [-0.5, 0.5]\n",
    "target = [4.5, 4.5]\n",
    "spacing = [ΔX, ΔY]\n",
    "isocenter = [X₀, Y₀]\n",
    "dims = [nx, ny]\n",
    "\n",
    "sid = Siddon(origin, target, spacing, isocenter, dims)"
   ]
  },
  {
   "cell_type": "code",
   "execution_count": 6,
   "id": "a3cbf00e",
   "metadata": {},
   "outputs": [
    {
     "ename": "LoadError",
     "evalue": "UndefVarError: sid not defined",
     "output_type": "error",
     "traceback": [
      "UndefVarError: sid not defined",
      "",
      "Stacktrace:",
      " [1] top-level scope",
      "   @ In[6]:2",
      " [2] eval",
      "   @ ./boot.jl:373 [inlined]",
      " [3] include_string(mapexpr::typeof(REPL.softscope), mod::Module, code::String, filename::String)",
      "   @ Base ./loading.jl:1196"
     ]
    }
   ],
   "source": [
    "# Test the initialization function\n",
    "αmin, αmax, imin, _, jmin, _ = initialize(sid)"
   ]
  },
  {
   "cell_type": "markdown",
   "id": "d54f62fd",
   "metadata": {},
   "source": [
    "## Loop"
   ]
  },
  {
   "cell_type": "code",
   "execution_count": 7,
   "id": "12631fd3",
   "metadata": {},
   "outputs": [
    {
     "ename": "LoadError",
     "evalue": "UndefVarError: sid not defined",
     "output_type": "error",
     "traceback": [
      "UndefVarError: sid not defined",
      "",
      "Stacktrace:",
      " [1] top-level scope",
      "   @ In[7]:1",
      " [2] eval",
      "   @ ./boot.jl:373 [inlined]",
      " [3] include_string(mapexpr::typeof(REPL.softscope), mod::Module, code::String, filename::String)",
      "   @ Base ./loading.jl:1196"
     ]
    }
   ],
   "source": [
    "CartesianIndex(trunc.(Int, get_φ(0.1; sid))...)"
   ]
  },
  {
   "cell_type": "code",
   "execution_count": 8,
   "id": "0443e66b",
   "metadata": {},
   "outputs": [
    {
     "data": {
      "text/plain": [
       "get_vox_idx (generic function with 1 method)"
      ]
     },
     "execution_count": 8,
     "metadata": {},
     "output_type": "execute_result"
    }
   ],
   "source": [
    "get_vox_idx(α::Float64) = trunc.(Int, get_φ(α; sid)) .+ 1"
   ]
  },
  {
   "cell_type": "code",
   "execution_count": 9,
   "id": "0e5875cb",
   "metadata": {},
   "outputs": [
    {
     "data": {
      "text/plain": [
       "get_voxel_idx (generic function with 1 method)"
      ]
     },
     "execution_count": 9,
     "metadata": {},
     "output_type": "execute_result"
    }
   ],
   "source": [
    "function get_voxel_idx(α::Float64; sid::Siddon)\n",
    "    xidx = get_φ(α; sid)\n",
    "    idxs = trunc.(Int, xidxs) .+ 1\n",
    "    return CartesianIndex(idxs...)\n",
    "end"
   ]
  },
  {
   "cell_type": "code",
   "execution_count": 10,
   "id": "1fd40152",
   "metadata": {},
   "outputs": [
    {
     "ename": "LoadError",
     "evalue": "UndefVarError: sid not defined",
     "output_type": "error",
     "traceback": [
      "UndefVarError: sid not defined",
      "",
      "Stacktrace:",
      " [1] top-level scope",
      "   @ In[10]:1",
      " [2] eval",
      "   @ ./boot.jl:373 [inlined]",
      " [3] include_string(mapexpr::typeof(REPL.softscope), mod::Module, code::String, filename::String)",
      "   @ Base ./loading.jl:1196"
     ]
    }
   ],
   "source": [
    "iu = sid.origin[1] ≤ sid.target[1] ? 1 : -1\n",
    "ju = sid.origin[2] ≤ sid.target[2] ? 1 : -1\n",
    "\n",
    "update_i = [iu, ju]\n",
    "update_α = @. sid.spacing / abs(sid.target-sid.origin)\n",
    "\n",
    "αcurr = αmin\n",
    "\n",
    "αs = get_α(imin, jmin; sid)\n",
    "αnext, idx = findmin(αs)\n",
    "\n",
    "αmid = (αnext + αcurr) / 2\n",
    "voxs = get_vox_idx(αmid)"
   ]
  },
  {
   "cell_type": "code",
   "execution_count": 11,
   "id": "cd33a597",
   "metadata": {},
   "outputs": [
    {
     "ename": "LoadError",
     "evalue": "UndefVarError: αnext not defined",
     "output_type": "error",
     "traceback": [
      "UndefVarError: αnext not defined",
      "",
      "Stacktrace:",
      " [1] top-level scope",
      "   @ In[11]:1",
      " [2] eval",
      "   @ ./boot.jl:373 [inlined]",
      " [3] include_string(mapexpr::typeof(REPL.softscope), mod::Module, code::String, filename::String)",
      "   @ Base ./loading.jl:1196"
     ]
    }
   ],
   "source": [
    "len = αnext - αcurr\n",
    "@show αnext, len, voxs\n",
    "\n",
    "while αcurr < αmax\n",
    "    voxs[idx] += update_i[idx]\n",
    "    αs[idx] += update_α[idx]\n",
    "    \n",
    "    αnext, idx = findmin(αs)\n",
    "    \n",
    "    len = αnext - αcurr\n",
    "    @show αnext, len, voxs\n",
    "    \n",
    "    αcurr = αnext\n",
    "end"
   ]
  },
  {
   "cell_type": "markdown",
   "id": "fefca969",
   "metadata": {},
   "source": [
    "## 3D?"
   ]
  },
  {
   "cell_type": "code",
   "execution_count": 12,
   "id": "3c0aadcb",
   "metadata": {},
   "outputs": [],
   "source": [
    "function get_α(i::Int, j::Int, k::Int; sid::Siddon)\n",
    "    planes = [i, j, k]\n",
    "    return @. (sid.isocenter + planes * sid.spacing - sid.origin) / (sid.target - sid.origin)\n",
    "end\n",
    "\n",
    "\n",
    "function get_α_minmax(sid::Siddon)\n",
    "    αx0, αy0, αz0 = get_α(0, 0, 0; sid)\n",
    "    αx1, αy1, αz1 = (sid.dims .- 1) |> nxyz -> get_α(nxyz...; sid)\n",
    "    αxmin, αxmax = minmax(αx0, αx1)\n",
    "    αymin, αymax = minmax(αy0, αy1)\n",
    "    αzmin, αzmax = minmax(αz0, αz1)\n",
    "    αmin = max(αxmin, αymin, αzmin)\n",
    "    αmax = min(αxmax, αymax, αzmax)\n",
    "    return αxmin, αxmax, αymin, αymax, αzmin, αzmax, αmin, αmax\n",
    "end\n",
    "\n",
    "\n",
    "function get_φ(α::Float64; sid::Siddon)\n",
    "    pxyz = @. sid.origin + α * (sid.target - sid.origin)  # Trace the ray\n",
    "    return @. (pxyz - sid.isocenter) / sid.spacing\n",
    "end\n",
    "\n",
    "\n",
    "function get_idx_minmax(\n",
    "    αmin::Float64, αmax::Float64, αxmin::Float64, αxmax::Float64,\n",
    "    ixmin::Float64, ixmax::Float64, p1::Float64, p2::Float64, nx::Int64\n",
    ")\n",
    "    if p1 ≤ p2\n",
    "        imin = αmin == αxmin ? 1 : trunc(Int, ixmin + 1)\n",
    "        imax = αmax == αxmax ? nx - 1 : trunc(Int, ixmax)\n",
    "    else\n",
    "        imin = αmax == αxmax ? 1 : trunc(Int, ixmax + 1)\n",
    "        imax = αmin == αxmin ? nx - 2 : trunc(Int, ixmin)\n",
    "    end\n",
    "    return imin, imax\n",
    "end\n",
    "\n",
    "\n",
    "function initialize(sid::Siddon)\n",
    "    αxmin, αxmax, αymin, αymax, αzmin, αzmax, αmin, αmax = get_α_minmax(sid)\n",
    "    ixmin, jxmin, kxmin = get_φ(αmin; sid)\n",
    "    ixmax, jxmax, kxmax = get_φ(αmax; sid)\n",
    "    imin, imax = get_idx_minmax(αmin, αmax, αxmin, αxmax, ixmin, ixmax, sid.origin[1], sid.target[1], sid.dims[1])\n",
    "    jmin, jmax = get_idx_minmax(αmin, αmax, αymin, αymax, jxmin, jxmax, sid.origin[2], sid.target[2], sid.dims[2])\n",
    "    kmin, kmax = get_idx_minmax(αmin, αmax, αzmin, αzmax, kxmin, kxmax, sid.origin[3], sid.target[3], sid.dims[3])\n",
    "    return αmin, αmax, imin, imax, jmin, jmax, kmin, kmax\n",
    "end\n",
    "\n",
    "\n",
    "# TODO: When to convert to CartesianIndex?\n",
    "function get_voxel_idx(α::Float64; sid::Siddon)\n",
    "    xidxs = get_φ(α; sid)\n",
    "    idxs = trunc.(Int, xidxs) .+ 1\n",
    "    return idxs\n",
    "    # return CartesianIndex(idxs...)\n",
    "end\n",
    "\n",
    "\n",
    "# Main function to evaluate\n",
    "function (sid::Siddon)()\n",
    "\n",
    "    # Get idx update conditions\n",
    "    iu = sid.origin[1] ≤ sid.target[1] ? 1 : -1\n",
    "    ju = sid.origin[2] ≤ sid.target[2] ? 1 : -1\n",
    "    ku = sid.origin[3] ≤ sid.target[3] ? 1 : -1\n",
    "    update_idx = [iu, ju, ku]\n",
    "\n",
    "    # Get α update conditions\n",
    "    update_α = @. sid.spacing / abs(sid.target - sid.origin)\n",
    "\n",
    "    # Initialize the loop\n",
    "    αmin, αmax, imin, imax, jmin, jmax, kmin, kmax = initialize(sid)\n",
    "\n",
    "    αcurr = αmin\n",
    "    steps = get_α(imin, jmin, kmin; sid)\n",
    "    αnext, idx = findmin(steps)\n",
    "    αmid = (αcurr + αnext) / 2\n",
    "    voxel = get_voxel_idx(αmid; sid)\n",
    "\n",
    "    while αcurr < αmax\n",
    "        voxel[idx] += update_idx[idx]\n",
    "        steps[idx] += update_α[idx]\n",
    "        αnext, idx = findmin(steps)\n",
    "        step_len = αnext - αcurr\n",
    "        @show αnext, step_len, voxel\n",
    "        αcurr = αnext\n",
    "    end\n",
    "\n",
    "end"
   ]
  },
  {
   "cell_type": "code",
   "execution_count": 13,
   "id": "6a137af5",
   "metadata": {},
   "outputs": [
    {
     "data": {
      "text/plain": [
       "Siddon{Vector{Float64}, Vector{Int64}}([-0.5, 0.5, -0.5], [4.5, 4.5, 4.5], [1.0, 1.0, 1.0], [0.0, 0.0, 0.0], [5, 5, 5])"
      ]
     },
     "execution_count": 13,
     "metadata": {},
     "output_type": "execute_result"
    }
   ],
   "source": [
    "# Little test implementation\n",
    "ΔX, ΔY, ΔZ = 1, 1, 1\n",
    "X₀, Y₀, Z₀ = 0, 0, 0\n",
    "\n",
    "nx = 5  # Number of planes (x)\n",
    "ny = 5  # Number of planes (y)\n",
    "nz = 5\n",
    "\n",
    "\n",
    "origin = [-0.5, 0.5, -0.5]\n",
    "target = [4.5, 4.5, 4.5]\n",
    "spacing = Float64[ΔX, ΔY, ΔZ]\n",
    "isocenter = Float64[X₀, Y₀, Z₀]\n",
    "dims = [nx, ny, nz]\n",
    "\n",
    "sid = Siddon(origin, target, spacing, isocenter, dims)"
   ]
  },
  {
   "cell_type": "code",
   "execution_count": 14,
   "id": "9bb8f851",
   "metadata": {},
   "outputs": [
    {
     "name": "stdout",
     "output_type": "stream",
     "text": [
      "(αnext, step_len, voxel) = (0.3, 0.19999999999999998, [1, 2, 1])\n",
      "(αnext, step_len, voxel) = (0.3, 0.0, [2, 2, 1])\n",
      "(αnext, step_len, voxel) = (0.375, 0.07500000000000001, [2, 2, 2])\n",
      "(αnext, step_len, voxel) = (0.5, 0.125, [2, 3, 2])\n",
      "(αnext, step_len, voxel) = (0.5, 0.0, [3, 3, 2])\n",
      "(αnext, step_len, voxel) = (0.625, 0.125, [3, 3, 3])\n",
      "(αnext, step_len, voxel) = (0.7, 0.07499999999999996, [3, 4, 3])\n",
      "(αnext, step_len, voxel) = (0.7, 0.0, [4, 4, 3])\n",
      "(αnext, step_len, voxel) = (0.875, 0.17500000000000004, [4, 4, 4])\n"
     ]
    }
   ],
   "source": [
    "sid()"
   ]
  },
  {
   "cell_type": "code",
   "execution_count": null,
   "id": "ee8440f1",
   "metadata": {},
   "outputs": [],
   "source": []
  }
 ],
 "metadata": {
  "@webio": {
   "lastCommId": null,
   "lastKernelId": null
  },
  "kernelspec": {
   "display_name": "Julia 1.7.1",
   "language": "julia",
   "name": "julia-1.7"
  },
  "language_info": {
   "file_extension": ".jl",
   "mimetype": "application/julia",
   "name": "julia",
   "version": "1.7.1"
  }
 },
 "nbformat": 4,
 "nbformat_minor": 5
}
